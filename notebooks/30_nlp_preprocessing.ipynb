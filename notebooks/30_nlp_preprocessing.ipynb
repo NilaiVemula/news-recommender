{
 "metadata": {
  "language_info": {
   "codemirror_mode": {
    "name": "ipython",
    "version": 3
   },
   "file_extension": ".py",
   "mimetype": "text/x-python",
   "name": "python",
   "nbconvert_exporter": "python",
   "pygments_lexer": "ipython3",
   "version": "3.9.0-final"
  },
  "orig_nbformat": 2,
  "kernelspec": {
   "name": "python3",
   "display_name": "Python 3.9.0 64-bit ('env')",
   "metadata": {
    "interpreter": {
     "hash": "de617ca2fda92e196c8988e1a73618b10766d237c8dc026163f754cde3e4de3d"
    }
   }
  }
 },
 "nbformat": 4,
 "nbformat_minor": 2,
 "cells": [
  {
   "cell_type": "code",
   "execution_count": 1,
   "metadata": {},
   "outputs": [],
   "source": [
    "from nltk.tokenize import word_tokenize\n",
    "from nltk.probability import FreqDist\n",
    "from nltk.corpus import stopwords\n",
    "import string\n",
    "import pandas as pd"
   ]
  },
  {
   "cell_type": "code",
   "execution_count": 2,
   "metadata": {},
   "outputs": [],
   "source": [
    "df = pd.read_csv(f'../data/clean_data.csv')\n",
    "\n",
    "\n",
    "stop_words=stopwords.words('english')+list(string.punctuation) + ['“','”','–','—','’']\n",
    "\n",
    "word_frequencies = []\n",
    "\n",
    "for index, row in df.iterrows():\n",
    "    #print(index, row['subreddit'])\n",
    "    cleaneddoc=[word.lower() for word in word_tokenize(row['article_text']) if word not in stop_words]\n",
    "    word_frequencies.append(FreqDist(cleaneddoc))\n",
    "    #print([FreqDist(cleaneddoc)])\n",
    "\n",
    "df['word_frequencies'] = word_frequencies\n",
    "\n"
   ]
  },
  {
   "cell_type": "code",
   "execution_count": 3,
   "metadata": {},
   "outputs": [
    {
     "output_type": "execute_result",
     "data": {
      "text/plain": [
       "     submission_id    posted_time_stamp           subreddit  \\\n",
       "0           ijxoqr  2020-08-31 16:10:48  Anarcho_Capitalism   \n",
       "1           jpu2rx  2020-11-07 18:45:41        Conservative   \n",
       "2           jzta4e  2020-11-24 01:31:35        Conservative   \n",
       "3           i0ltok  2020-07-30 16:14:02        Conservative   \n",
       "4           j106fp  2020-09-28 01:24:03        Conservative   \n",
       "...            ...                  ...                 ...   \n",
       "2032        b2508a  2019-03-17 16:10:16          Republican   \n",
       "2033        9j1xpp  2018-09-26 15:12:57          Republican   \n",
       "2034        acth6r  2019-01-05 13:40:33          Republican   \n",
       "2035        gay1r8  2020-04-30 18:42:18          Republican   \n",
       "2036        fdfkmx  2020-03-04 18:34:07          Republican   \n",
       "\n",
       "                                                  title  \\\n",
       "0     Rand Paul attacked by leftist mob screaming \"s...   \n",
       "1              AP Has called the election for Joe Biden   \n",
       "2     Trump Administration To Start Transition Proce...   \n",
       "3             Trump calls for delay to 2020 US election   \n",
       "4     NY Times: Trump paid $750 in US income taxes i...   \n",
       "...                                                 ...   \n",
       "2032  Ilhan Omar singled out in GOP resolution conde...   \n",
       "2033  Charlie Daniels: America, It’s Time to Cool Do...   \n",
       "2034  Ocasio-Cortez floats 70 percent tax on the sup...   \n",
       "2035  California Republican Party suing state's gove...   \n",
       "2036   Michael Bloomberg Suspends Presidential Campaign   \n",
       "\n",
       "                                                    url               author  \\\n",
       "0     https://www.foxnews.com/politics/rand-paul-att...  it_is_all_fake_news   \n",
       "1     https://apnews.com/article/Biden-Trump-US-elec...              Jibrish   \n",
       "2     https://www.dailywire.com/news/breaking-trump-...       Winterhold2000   \n",
       "3     https://www.bbc.com/news/world-us-canada-53597...           NoleFan723   \n",
       "4     https://apnews.com/f0e2af5f9f99de9d30dc6b90971...           pookamatic   \n",
       "...                                                 ...                  ...   \n",
       "2032  https://www.washingtonexaminer.com/news/ilhan-...               Foubar   \n",
       "2033  https://www.cnsnews.com/commentary/charlie-dan...   DEYoungRepublicans   \n",
       "2034  https://www.politico.com/story/2019/01/04/ocas...        The_seph_i_am   \n",
       "2035  https://www.cbsnews.com/news/california-republ...             raffu280   \n",
       "2036  https://www.dailywire.com/news/breaking-michae...               Yosoff   \n",
       "\n",
       "      upvotes  downvotes                                       article_text  \\\n",
       "0         918         69  sen rand paul rky told fox friends he believes...   \n",
       "1       66358      27104  washington ap — democrat joe biden defeated pr...   \n",
       "2       22659      13308  the trump administration will begin the formal...   \n",
       "3       21645       8006  mr trump appears to be doing everything in his...   \n",
       "4       18944      10201  president donald trump paid just 750 in federa...   \n",
       "...       ...        ...                                                ...   \n",
       "2032      526         52  republicans are targeting rep ilhan omar dminn...   \n",
       "2033      524         52  charlie daniels it seems that – for the most p...   \n",
       "2034      520         64  “i think that it only has ever been radicals t...   \n",
       "2035      519         45  the california republican party is suing gover...   \n",
       "2036      519         16  former new york city mayor michael bloomberg a...   \n",
       "\n",
       "       lean                                   word_frequencies  \n",
       "0     right  {'sen': 2, 'rand': 2, 'paul': 6, 'rky': 1, 'to...  \n",
       "1     right  {'washington': 3, 'ap': 1, 'democrat': 1, 'joe...  \n",
       "2     right  {'trump': 3, 'administration': 5, 'begin': 1, ...  \n",
       "3     right  {'mr': 1, 'trump': 1, 'appears': 1, 'everythin...  \n",
       "4     right  {'president': 12, 'donald': 3, 'trump': 20, 'p...  \n",
       "...     ...                                                ...  \n",
       "2032  right  {'republicans': 2, 'targeting': 1, 'rep': 2, '...  \n",
       "2033  right  {'charlie': 3, 'daniels': 4, 'seems': 1, 'part...  \n",
       "2034  right  {'think': 2, 'ever': 2, 'radicals': 2, 'change...  \n",
       "2035  right  {'california': 6, 'republican': 6, 'party': 6,...  \n",
       "2036  right  {'former': 4, 'new': 1, 'york': 1, 'city': 1, ...  \n",
       "\n",
       "[2037 rows x 11 columns]"
      ],
      "text/html": "<div>\n<style scoped>\n    .dataframe tbody tr th:only-of-type {\n        vertical-align: middle;\n    }\n\n    .dataframe tbody tr th {\n        vertical-align: top;\n    }\n\n    .dataframe thead th {\n        text-align: right;\n    }\n</style>\n<table border=\"1\" class=\"dataframe\">\n  <thead>\n    <tr style=\"text-align: right;\">\n      <th></th>\n      <th>submission_id</th>\n      <th>posted_time_stamp</th>\n      <th>subreddit</th>\n      <th>title</th>\n      <th>url</th>\n      <th>author</th>\n      <th>upvotes</th>\n      <th>downvotes</th>\n      <th>article_text</th>\n      <th>lean</th>\n      <th>word_frequencies</th>\n    </tr>\n  </thead>\n  <tbody>\n    <tr>\n      <th>0</th>\n      <td>ijxoqr</td>\n      <td>2020-08-31 16:10:48</td>\n      <td>Anarcho_Capitalism</td>\n      <td>Rand Paul attacked by leftist mob screaming \"s...</td>\n      <td>https://www.foxnews.com/politics/rand-paul-att...</td>\n      <td>it_is_all_fake_news</td>\n      <td>918</td>\n      <td>69</td>\n      <td>sen rand paul rky told fox friends he believes...</td>\n      <td>right</td>\n      <td>{'sen': 2, 'rand': 2, 'paul': 6, 'rky': 1, 'to...</td>\n    </tr>\n    <tr>\n      <th>1</th>\n      <td>jpu2rx</td>\n      <td>2020-11-07 18:45:41</td>\n      <td>Conservative</td>\n      <td>AP Has called the election for Joe Biden</td>\n      <td>https://apnews.com/article/Biden-Trump-US-elec...</td>\n      <td>Jibrish</td>\n      <td>66358</td>\n      <td>27104</td>\n      <td>washington ap — democrat joe biden defeated pr...</td>\n      <td>right</td>\n      <td>{'washington': 3, 'ap': 1, 'democrat': 1, 'joe...</td>\n    </tr>\n    <tr>\n      <th>2</th>\n      <td>jzta4e</td>\n      <td>2020-11-24 01:31:35</td>\n      <td>Conservative</td>\n      <td>Trump Administration To Start Transition Proce...</td>\n      <td>https://www.dailywire.com/news/breaking-trump-...</td>\n      <td>Winterhold2000</td>\n      <td>22659</td>\n      <td>13308</td>\n      <td>the trump administration will begin the formal...</td>\n      <td>right</td>\n      <td>{'trump': 3, 'administration': 5, 'begin': 1, ...</td>\n    </tr>\n    <tr>\n      <th>3</th>\n      <td>i0ltok</td>\n      <td>2020-07-30 16:14:02</td>\n      <td>Conservative</td>\n      <td>Trump calls for delay to 2020 US election</td>\n      <td>https://www.bbc.com/news/world-us-canada-53597...</td>\n      <td>NoleFan723</td>\n      <td>21645</td>\n      <td>8006</td>\n      <td>mr trump appears to be doing everything in his...</td>\n      <td>right</td>\n      <td>{'mr': 1, 'trump': 1, 'appears': 1, 'everythin...</td>\n    </tr>\n    <tr>\n      <th>4</th>\n      <td>j106fp</td>\n      <td>2020-09-28 01:24:03</td>\n      <td>Conservative</td>\n      <td>NY Times: Trump paid $750 in US income taxes i...</td>\n      <td>https://apnews.com/f0e2af5f9f99de9d30dc6b90971...</td>\n      <td>pookamatic</td>\n      <td>18944</td>\n      <td>10201</td>\n      <td>president donald trump paid just 750 in federa...</td>\n      <td>right</td>\n      <td>{'president': 12, 'donald': 3, 'trump': 20, 'p...</td>\n    </tr>\n    <tr>\n      <th>...</th>\n      <td>...</td>\n      <td>...</td>\n      <td>...</td>\n      <td>...</td>\n      <td>...</td>\n      <td>...</td>\n      <td>...</td>\n      <td>...</td>\n      <td>...</td>\n      <td>...</td>\n      <td>...</td>\n    </tr>\n    <tr>\n      <th>2032</th>\n      <td>b2508a</td>\n      <td>2019-03-17 16:10:16</td>\n      <td>Republican</td>\n      <td>Ilhan Omar singled out in GOP resolution conde...</td>\n      <td>https://www.washingtonexaminer.com/news/ilhan-...</td>\n      <td>Foubar</td>\n      <td>526</td>\n      <td>52</td>\n      <td>republicans are targeting rep ilhan omar dminn...</td>\n      <td>right</td>\n      <td>{'republicans': 2, 'targeting': 1, 'rep': 2, '...</td>\n    </tr>\n    <tr>\n      <th>2033</th>\n      <td>9j1xpp</td>\n      <td>2018-09-26 15:12:57</td>\n      <td>Republican</td>\n      <td>Charlie Daniels: America, It’s Time to Cool Do...</td>\n      <td>https://www.cnsnews.com/commentary/charlie-dan...</td>\n      <td>DEYoungRepublicans</td>\n      <td>524</td>\n      <td>52</td>\n      <td>charlie daniels it seems that – for the most p...</td>\n      <td>right</td>\n      <td>{'charlie': 3, 'daniels': 4, 'seems': 1, 'part...</td>\n    </tr>\n    <tr>\n      <th>2034</th>\n      <td>acth6r</td>\n      <td>2019-01-05 13:40:33</td>\n      <td>Republican</td>\n      <td>Ocasio-Cortez floats 70 percent tax on the sup...</td>\n      <td>https://www.politico.com/story/2019/01/04/ocas...</td>\n      <td>The_seph_i_am</td>\n      <td>520</td>\n      <td>64</td>\n      <td>“i think that it only has ever been radicals t...</td>\n      <td>right</td>\n      <td>{'think': 2, 'ever': 2, 'radicals': 2, 'change...</td>\n    </tr>\n    <tr>\n      <th>2035</th>\n      <td>gay1r8</td>\n      <td>2020-04-30 18:42:18</td>\n      <td>Republican</td>\n      <td>California Republican Party suing state's gove...</td>\n      <td>https://www.cbsnews.com/news/california-republ...</td>\n      <td>raffu280</td>\n      <td>519</td>\n      <td>45</td>\n      <td>the california republican party is suing gover...</td>\n      <td>right</td>\n      <td>{'california': 6, 'republican': 6, 'party': 6,...</td>\n    </tr>\n    <tr>\n      <th>2036</th>\n      <td>fdfkmx</td>\n      <td>2020-03-04 18:34:07</td>\n      <td>Republican</td>\n      <td>Michael Bloomberg Suspends Presidential Campaign</td>\n      <td>https://www.dailywire.com/news/breaking-michae...</td>\n      <td>Yosoff</td>\n      <td>519</td>\n      <td>16</td>\n      <td>former new york city mayor michael bloomberg a...</td>\n      <td>right</td>\n      <td>{'former': 4, 'new': 1, 'york': 1, 'city': 1, ...</td>\n    </tr>\n  </tbody>\n</table>\n<p>2037 rows × 11 columns</p>\n</div>"
     },
     "metadata": {},
     "execution_count": 3
    }
   ],
   "source": [
    "df"
   ]
  },
  {
   "cell_type": "code",
   "execution_count": 4,
   "metadata": {},
   "outputs": [],
   "source": [
    "import pickle"
   ]
  },
  {
   "cell_type": "code",
   "execution_count": 5,
   "metadata": {},
   "outputs": [],
   "source": [
    "pickle.dump(df, open('../data/word_frequency_df.pickle','wb'))"
   ]
  },
  {
   "cell_type": "code",
   "execution_count": 12,
   "metadata": {},
   "outputs": [
    {
     "output_type": "execute_result",
     "data": {
      "text/plain": [
       "(1348, 11)"
      ]
     },
     "metadata": {},
     "execution_count": 12
    }
   ],
   "source": [
    "df[df['lean']==\"left\"].shape"
   ]
  },
  {
   "cell_type": "code",
   "execution_count": 13,
   "metadata": {},
   "outputs": [
    {
     "output_type": "execute_result",
     "data": {
      "text/plain": [
       "(689, 11)"
      ]
     },
     "metadata": {},
     "execution_count": 13
    }
   ],
   "source": [
    "df[df['lean']==\"right\"].shape\n"
   ]
  },
  {
   "cell_type": "code",
   "execution_count": null,
   "metadata": {},
   "outputs": [],
   "source": []
  }
 ]
}