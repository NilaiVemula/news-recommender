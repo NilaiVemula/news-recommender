{
 "metadata": {
  "language_info": {
   "codemirror_mode": {
    "name": "ipython",
    "version": 3
   },
   "file_extension": ".py",
   "mimetype": "text/x-python",
   "name": "python",
   "nbconvert_exporter": "python",
   "pygments_lexer": "ipython3",
   "version": "3.9.0-final"
  },
  "orig_nbformat": 2,
  "kernelspec": {
   "name": "python3",
   "display_name": "Python 3.9.0 64-bit ('env')",
   "metadata": {
    "interpreter": {
     "hash": "de617ca2fda92e196c8988e1a73618b10766d237c8dc026163f754cde3e4de3d"
    }
   }
  }
 },
 "nbformat": 4,
 "nbformat_minor": 2,
 "cells": [
  {
   "source": [
    "# Data Cleaning"
   ],
   "cell_type": "markdown",
   "metadata": {}
  },
  {
   "source": [
    "Import libraries:"
   ],
   "cell_type": "markdown",
   "metadata": {}
  },
  {
   "cell_type": "code",
   "execution_count": 1,
   "metadata": {},
   "outputs": [],
   "source": [
    "import pandas as pd\n",
    "import numpy as np\n",
    "import os"
   ]
  },
  {
   "source": [
    "Load in data:"
   ],
   "cell_type": "markdown",
   "metadata": {}
  },
  {
   "cell_type": "code",
   "execution_count": 2,
   "metadata": {},
   "outputs": [
    {
     "output_type": "execute_result",
     "data": {
      "text/plain": [
       "     submission_id    posted_time_stamp           subreddit  \\\n",
       "0           if35i0  2020-08-23 16:26:16  Anarcho_Capitalism   \n",
       "1           hgoib5  2020-06-27 09:28:04  Anarcho_Capitalism   \n",
       "2           aib9qb  2019-01-21 17:45:06  Anarcho_Capitalism   \n",
       "3           57qxn7  2016-10-16 13:50:59  Anarcho_Capitalism   \n",
       "4           ezuipx  2020-02-06 18:12:10  Anarcho_Capitalism   \n",
       "...            ...                  ...                 ...   \n",
       "2316        9j1xpp  2018-09-26 15:12:57          Republican   \n",
       "2317        d4b2jf  2019-09-15 00:08:37          Republican   \n",
       "2318        acth6r  2019-01-05 13:40:33          Republican   \n",
       "2319        gay1r8  2020-04-30 18:42:18          Republican   \n",
       "2320        fdfkmx  2020-03-04 18:34:07          Republican   \n",
       "\n",
       "                                                  title  \\\n",
       "0                                       Property rights   \n",
       "1                                           leftist.jpg   \n",
       "2               The ridiculous irony of reddit politics   \n",
       "3     CNN: It's illegal for you to read the leaked e...   \n",
       "4                               bernies 2020 in one jpg   \n",
       "...                                                 ...   \n",
       "2316  Charlie Daniels: America, It’s Time to Cool Do...   \n",
       "2317  VIDEO: Black Trump Supporter Told Not to Wear ...   \n",
       "2318  Ocasio-Cortez floats 70 percent tax on the sup...   \n",
       "2319  California Republican Party suing state's gove...   \n",
       "2320   Michael Bloomberg Suspends Presidential Campaign   \n",
       "\n",
       "                                                    url                author  \\\n",
       "0     https://jssocial.pw/ppkey/fget/x0x7/upload/JQk...                  x0x7   \n",
       "1                   https://files.catbox.moe/pdzsl5.JPG  R334Cti0N4Ry_Lib3Rty   \n",
       "2                  https://files.catbox.moe/q5fbf3.jpeg            RetroForte   \n",
       "3                           https://streamable.com/6g5v          pseudoRndNbr   \n",
       "4     https://i2.wp.com/stonetoss.com/wp-content/upl...                   NaN   \n",
       "...                                                 ...                   ...   \n",
       "2316  https://www.cnsnews.com/commentary/charlie-dan...    DEYoungRepublicans   \n",
       "2317  https://www.thedailypatriot.club/videos/video-...           LisaLuvsYou   \n",
       "2318  https://www.politico.com/story/2019/01/04/ocas...         The_seph_i_am   \n",
       "2319  https://www.cbsnews.com/news/california-republ...              raffu280   \n",
       "2320  https://www.dailywire.com/news/breaking-michae...                Yosoff   \n",
       "\n",
       "      upvotes  downvotes                                       article_text  \n",
       "0        2030        476                                                NaN  \n",
       "1        1397        286                                                NaN  \n",
       "2        1366        135                                                NaN  \n",
       "3        1351        238                                                NaN  \n",
       "4        1333        273                                                NaN  \n",
       "...       ...        ...                                                ...  \n",
       "2316      524         52  charlie daniels it seems that – for the most p...  \n",
       "2317      523         52                                                NaN  \n",
       "2318      520         64  “i think that it only has ever been radicals t...  \n",
       "2319      519         45  the california republican party is suing gover...  \n",
       "2320      519         16  former new york city mayor michael bloomberg a...  \n",
       "\n",
       "[2321 rows x 9 columns]"
      ],
      "text/html": "<div>\n<style scoped>\n    .dataframe tbody tr th:only-of-type {\n        vertical-align: middle;\n    }\n\n    .dataframe tbody tr th {\n        vertical-align: top;\n    }\n\n    .dataframe thead th {\n        text-align: right;\n    }\n</style>\n<table border=\"1\" class=\"dataframe\">\n  <thead>\n    <tr style=\"text-align: right;\">\n      <th></th>\n      <th>submission_id</th>\n      <th>posted_time_stamp</th>\n      <th>subreddit</th>\n      <th>title</th>\n      <th>url</th>\n      <th>author</th>\n      <th>upvotes</th>\n      <th>downvotes</th>\n      <th>article_text</th>\n    </tr>\n  </thead>\n  <tbody>\n    <tr>\n      <th>0</th>\n      <td>if35i0</td>\n      <td>2020-08-23 16:26:16</td>\n      <td>Anarcho_Capitalism</td>\n      <td>Property rights</td>\n      <td>https://jssocial.pw/ppkey/fget/x0x7/upload/JQk...</td>\n      <td>x0x7</td>\n      <td>2030</td>\n      <td>476</td>\n      <td>NaN</td>\n    </tr>\n    <tr>\n      <th>1</th>\n      <td>hgoib5</td>\n      <td>2020-06-27 09:28:04</td>\n      <td>Anarcho_Capitalism</td>\n      <td>leftist.jpg</td>\n      <td>https://files.catbox.moe/pdzsl5.JPG</td>\n      <td>R334Cti0N4Ry_Lib3Rty</td>\n      <td>1397</td>\n      <td>286</td>\n      <td>NaN</td>\n    </tr>\n    <tr>\n      <th>2</th>\n      <td>aib9qb</td>\n      <td>2019-01-21 17:45:06</td>\n      <td>Anarcho_Capitalism</td>\n      <td>The ridiculous irony of reddit politics</td>\n      <td>https://files.catbox.moe/q5fbf3.jpeg</td>\n      <td>RetroForte</td>\n      <td>1366</td>\n      <td>135</td>\n      <td>NaN</td>\n    </tr>\n    <tr>\n      <th>3</th>\n      <td>57qxn7</td>\n      <td>2016-10-16 13:50:59</td>\n      <td>Anarcho_Capitalism</td>\n      <td>CNN: It's illegal for you to read the leaked e...</td>\n      <td>https://streamable.com/6g5v</td>\n      <td>pseudoRndNbr</td>\n      <td>1351</td>\n      <td>238</td>\n      <td>NaN</td>\n    </tr>\n    <tr>\n      <th>4</th>\n      <td>ezuipx</td>\n      <td>2020-02-06 18:12:10</td>\n      <td>Anarcho_Capitalism</td>\n      <td>bernies 2020 in one jpg</td>\n      <td>https://i2.wp.com/stonetoss.com/wp-content/upl...</td>\n      <td>NaN</td>\n      <td>1333</td>\n      <td>273</td>\n      <td>NaN</td>\n    </tr>\n    <tr>\n      <th>...</th>\n      <td>...</td>\n      <td>...</td>\n      <td>...</td>\n      <td>...</td>\n      <td>...</td>\n      <td>...</td>\n      <td>...</td>\n      <td>...</td>\n      <td>...</td>\n    </tr>\n    <tr>\n      <th>2316</th>\n      <td>9j1xpp</td>\n      <td>2018-09-26 15:12:57</td>\n      <td>Republican</td>\n      <td>Charlie Daniels: America, It’s Time to Cool Do...</td>\n      <td>https://www.cnsnews.com/commentary/charlie-dan...</td>\n      <td>DEYoungRepublicans</td>\n      <td>524</td>\n      <td>52</td>\n      <td>charlie daniels it seems that – for the most p...</td>\n    </tr>\n    <tr>\n      <th>2317</th>\n      <td>d4b2jf</td>\n      <td>2019-09-15 00:08:37</td>\n      <td>Republican</td>\n      <td>VIDEO: Black Trump Supporter Told Not to Wear ...</td>\n      <td>https://www.thedailypatriot.club/videos/video-...</td>\n      <td>LisaLuvsYou</td>\n      <td>523</td>\n      <td>52</td>\n      <td>NaN</td>\n    </tr>\n    <tr>\n      <th>2318</th>\n      <td>acth6r</td>\n      <td>2019-01-05 13:40:33</td>\n      <td>Republican</td>\n      <td>Ocasio-Cortez floats 70 percent tax on the sup...</td>\n      <td>https://www.politico.com/story/2019/01/04/ocas...</td>\n      <td>The_seph_i_am</td>\n      <td>520</td>\n      <td>64</td>\n      <td>“i think that it only has ever been radicals t...</td>\n    </tr>\n    <tr>\n      <th>2319</th>\n      <td>gay1r8</td>\n      <td>2020-04-30 18:42:18</td>\n      <td>Republican</td>\n      <td>California Republican Party suing state's gove...</td>\n      <td>https://www.cbsnews.com/news/california-republ...</td>\n      <td>raffu280</td>\n      <td>519</td>\n      <td>45</td>\n      <td>the california republican party is suing gover...</td>\n    </tr>\n    <tr>\n      <th>2320</th>\n      <td>fdfkmx</td>\n      <td>2020-03-04 18:34:07</td>\n      <td>Republican</td>\n      <td>Michael Bloomberg Suspends Presidential Campaign</td>\n      <td>https://www.dailywire.com/news/breaking-michae...</td>\n      <td>Yosoff</td>\n      <td>519</td>\n      <td>16</td>\n      <td>former new york city mayor michael bloomberg a...</td>\n    </tr>\n  </tbody>\n</table>\n<p>2321 rows × 9 columns</p>\n</div>"
     },
     "metadata": {},
     "execution_count": 2
    }
   ],
   "source": [
    "files = os.listdir('../data')\n",
    "dataframes = [pd.read_csv(f'../data/{file}') for file in files if file.endswith('_top_articles.csv')]\n",
    "df = pd.concat(dataframes, ignore_index=True)\n",
    "df"
   ]
  },
  {
   "source": [
    "Remove NA data and articles with <= 50 characters"
   ],
   "cell_type": "markdown",
   "metadata": {}
  },
  {
   "cell_type": "code",
   "execution_count": 3,
   "metadata": {},
   "outputs": [],
   "source": [
    "df.dropna(inplace=True)\n",
    "df = df[df['article_text'].str.len() > 50]\n"
   ]
  },
  {
   "cell_type": "code",
   "execution_count": 4,
   "metadata": {},
   "outputs": [
    {
     "output_type": "execute_result",
     "data": {
      "text/plain": [
       "(2037, 9)"
      ]
     },
     "metadata": {},
     "execution_count": 4
    }
   ],
   "source": [
    "df.shape"
   ]
  },
  {
   "source": [
    "We have 2037 articles to analyze with 9 features for each article."
   ],
   "cell_type": "markdown",
   "metadata": {}
  },
  {
   "source": [
    "Add in a `lean` variable to categorize each post."
   ],
   "cell_type": "markdown",
   "metadata": {}
  },
  {
   "cell_type": "code",
   "execution_count": 5,
   "metadata": {},
   "outputs": [],
   "source": [
    "left = ['Democrats','LateStageCapitalism','Liberal','JoeBiden']\n",
    "right = ['Anarcho_Capitalism','Conservative','donaldtrump','Republican']\n",
    "\n",
    "df = df.assign(lean=df.subreddit.apply(lambda x: 'left' if x in left else 'right'))\n",
    "\n"
   ]
  },
  {
   "source": [
    "Article counts by subreddit:"
   ],
   "cell_type": "markdown",
   "metadata": {}
  },
  {
   "cell_type": "code",
   "execution_count": 10,
   "metadata": {},
   "outputs": [
    {
     "output_type": "execute_result",
     "data": {
      "text/plain": [
       "Liberal                850\n",
       "Democrats              386\n",
       "Republican             349\n",
       "Conservative           325\n",
       "JoeBiden               103\n",
       "donaldtrump             14\n",
       "LateStageCapitalism      9\n",
       "Anarcho_Capitalism       1\n",
       "Name: subreddit, dtype: int64"
      ]
     },
     "metadata": {},
     "execution_count": 10
    }
   ],
   "source": [
    "df['subreddit'].value_counts()"
   ]
  },
  {
   "source": [
    "Save cleaned data as a `.csv`."
   ],
   "cell_type": "markdown",
   "metadata": {}
  },
  {
   "cell_type": "code",
   "execution_count": 6,
   "metadata": {},
   "outputs": [],
   "source": [
    "df.to_csv('../data/clean_data.csv', index=False)"
   ]
  }
 ]
}